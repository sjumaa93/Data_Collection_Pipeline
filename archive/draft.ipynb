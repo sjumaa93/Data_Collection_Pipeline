{
 "cells": [
  {
   "cell_type": "code",
   "execution_count": 6,
   "metadata": {},
   "outputs": [
    {
     "name": "stderr",
     "output_type": "stream",
     "text": [
      "/var/folders/jv/ngpg2fn96hxg_w2ccthqfp500000gn/T/ipykernel_44296/1665733357.py:10: DeprecationWarning: executable_path has been deprecated, please pass in a Service object\n",
      "  driver = Chrome('./chromedriver')\n"
     ]
    },
    {
     "ename": "TypeError",
     "evalue": "Scraper.__init__() missing 1 required positional argument: 'url'",
     "output_type": "error",
     "traceback": [
      "\u001b[0;31m---------------------------------------------------------------------------\u001b[0m",
      "\u001b[0;31mTypeError\u001b[0m                                 Traceback (most recent call last)",
      "\u001b[1;32m/Users/saifjumaa/Desktop/Python Files/Data Collection Pipeline/Data-Collection-Pipeline/draft.ipynb Cell 1'\u001b[0m in \u001b[0;36m<cell line: 24>\u001b[0;34m()\u001b[0m\n\u001b[1;32m     <a href='vscode-notebook-cell:/Users/saifjumaa/Desktop/Python%20Files/Data%20Collection%20Pipeline/Data-Collection-Pipeline/draft.ipynb#ch0000000?line=20'>21</a>\u001b[0m         cookies_button \u001b[39m=\u001b[39m \u001b[39mself\u001b[39m\u001b[39m.\u001b[39mdriver\u001b[39m.\u001b[39mfind_element(By\u001b[39m.\u001b[39mXPATH, xpath)\n\u001b[1;32m     <a href='vscode-notebook-cell:/Users/saifjumaa/Desktop/Python%20Files/Data%20Collection%20Pipeline/Data-Collection-Pipeline/draft.ipynb#ch0000000?line=21'>22</a>\u001b[0m         cookies_button\u001b[39m.\u001b[39mclick\n\u001b[0;32m---> <a href='vscode-notebook-cell:/Users/saifjumaa/Desktop/Python%20Files/Data%20Collection%20Pipeline/Data-Collection-Pipeline/draft.ipynb#ch0000000?line=23'>24</a>\u001b[0m Scraper\u001b[39m.\u001b[39;49m\u001b[39m__init__\u001b[39;49m(\u001b[39m'\u001b[39;49m\u001b[39mhttps://www.amazon.com\u001b[39;49m\u001b[39m'\u001b[39;49m)\n\u001b[1;32m     <a href='vscode-notebook-cell:/Users/saifjumaa/Desktop/Python%20Files/Data%20Collection%20Pipeline/Data-Collection-Pipeline/draft.ipynb#ch0000000?line=24'>25</a>\u001b[0m Scraper\u001b[39m.\u001b[39maccept_cookies(\u001b[39m\"\u001b[39m\u001b[39m//span[contains(@class,\u001b[39m\u001b[39m'\u001b[39m\u001b[39mon-primary\u001b[39m\u001b[39m'\u001b[39m\u001b[39m)]\u001b[39m\u001b[39m\"\u001b[39m)\n",
      "\u001b[0;31mTypeError\u001b[0m: Scraper.__init__() missing 1 required positional argument: 'url'"
     ]
    }
   ],
   "source": [
    "from selenium import webdriver\n",
    "from selenium.webdriver.common.by import By\n",
    "from selenium.webdriver.chrome.options import Options\n",
    "from selenium.webdriver.common.keys import Keys\n",
    "from selenium.webdriver.support.ui import WebDriverWait\n",
    "from selenium.webdriver.support import expected_conditions as EC \n",
    "\n",
    "\n",
    "from selenium.webdriver import Chrome\n",
    "driver = Chrome('./chromedriver')\n",
    "\n",
    "class Scraper:\n",
    "    def __init__(self, url, options=None):\n",
    "        self.url = url\n",
    "        if options:\n",
    "            self.driver = Chrome('./chromedriver', options = options)\n",
    "        else:\n",
    "            self.driver = Chrome('./chromedriver')\n",
    "\n",
    "    def accept_cookies(self, xpath):\n",
    "        cookies_button = self.driver.find_element(By.XPATH, xpath)\n",
    "        cookies_button.click\n",
    "\n",
    "    def search_site(self, xpath):\n",
    "        pass\n",
    "\n",
    "Scraper.__init__('https://www.amazon.com')\n",
    "Scraper.accept_cookies(\"//span[contains(@class,'on-primary')]\")\n"
   ]
  },
  {
   "cell_type": "code",
   "execution_count": null,
   "metadata": {},
   "outputs": [],
   "source": []
  },
  {
   "cell_type": "code",
   "execution_count": 3,
   "metadata": {},
   "outputs": [],
   "source": []
  },
  {
   "cell_type": "code",
   "execution_count": null,
   "metadata": {},
   "outputs": [],
   "source": []
  }
 ],
 "metadata": {
  "interpreter": {
   "hash": "94e4e8b2c9b32864220700500712c656804c3b0ff3a960dfb883166e4bc2b064"
  },
  "kernelspec": {
   "display_name": "Python 3.10.2 ('dcp')",
   "language": "python",
   "name": "python3"
  },
  "language_info": {
   "codemirror_mode": {
    "name": "ipython",
    "version": 3
   },
   "file_extension": ".py",
   "mimetype": "text/x-python",
   "name": "python",
   "nbconvert_exporter": "python",
   "pygments_lexer": "ipython3",
   "version": "3.10.2"
  },
  "orig_nbformat": 4
 },
 "nbformat": 4,
 "nbformat_minor": 2
}
