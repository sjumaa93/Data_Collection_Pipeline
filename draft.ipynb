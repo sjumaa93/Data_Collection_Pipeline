{
 "cells": [
  {
   "cell_type": "code",
   "execution_count": null,
   "metadata": {},
   "outputs": [],
   "source": [
    "from typing import final\n",
    "from selenium import webdriver\n",
    "from selenium.webdriver.common.by import By\n",
    "\n",
    "\n",
    "from selenium.webdriver import Chrome\n",
    "driver = Chrome('./chromedriver')\n",
    "\n",
    "url = 'https://www.amazon.co.uk/'\n",
    "driver.get(url)\n",
    "\n",
    "driver.implicitly_wait(10)\n",
    "driver.find_element(By.XPATH,\"//span[contains(@class,'on-primary')]\").click()\n",
    "driver.find_element(By.XPATH,\"//input[contains(@id, 'search')]\").send_keys(\"Mobile Phones\")\n",
    "driver.find_element(By.XPATH,\"//input[@value='Go']\").click()\n",
    "\n",
    "phone_name = driver.find_elements(By.XPATH,\"//span[contains(@class, 'a-size-medium a-color-base a-text-normal')]\")\n",
    "phone_price = driver.find_elements(By.XPATH,\"//span[contains(@class, 'a-price-whole')]\")\n",
    "\n",
    "myphone=[]\n",
    "myprice=[]\n",
    "\n",
    "for phone in phone_name:\n",
    "    myphone.append(phone.text)\n",
    "\n",
    "print(\"*\"*50)\n",
    "\n",
    "for price in phone_price:\n",
    "    myprice.append(price.text)\n",
    "\n",
    "final_list = zip(myphone,myprice)\n",
    "\n",
    "for data in list(final_list):\n",
    "    print(data)"
   ]
  }
 ],
 "metadata": {
  "interpreter": {
   "hash": "94e4e8b2c9b32864220700500712c656804c3b0ff3a960dfb883166e4bc2b064"
  },
  "kernelspec": {
   "display_name": "Python 3.10.2 ('dcp')",
   "language": "python",
   "name": "python3"
  },
  "language_info": {
   "name": "python",
   "version": "3.10.2"
  },
  "orig_nbformat": 4
 },
 "nbformat": 4,
 "nbformat_minor": 2
}
