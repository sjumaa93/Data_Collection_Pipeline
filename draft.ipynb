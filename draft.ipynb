{
 "cells": [
  {
   "cell_type": "code",
   "execution_count": 4,
   "metadata": {},
   "outputs": [
    {
     "name": "stdout",
     "output_type": "stream",
     "text": [
      "B09HTTTLJ2\n"
     ]
    }
   ],
   "source": [
    "product_id = 'B09HTTTLJ2'\n",
    "\n",
    "list = [('B09HTTTLJ2',), ('B07RQW6SD5',), ('B097NGJH9L',)]\n",
    "\n",
    "\n",
    "if (f'{product_id}',) in list:\n",
    "    print(product_id)"
   ]
  },
  {
   "cell_type": "code",
   "execution_count": null,
   "metadata": {},
   "outputs": [],
   "source": [
    "from sqlalchemy import create_engine\n",
    "import psycopg2\n",
    "\n",
    "DATABASE_TYPE = 'postgresql'\n",
    "DBAPI = 'psycopg2'\n",
    "HOST = 'database.cqn1abbztdx3.us-east-1.rds.amazonaws.com'\n",
    "USER = 'postgres'\n",
    "PASSWORD = 'Blackberry12'\n",
    "DATABASE = 'postgres'\n",
    "PORT = 5432\n",
    "\n",
    "engine = create_engine(f\"{DATABASE_TYPE}+{DBAPI}://{USER}:{PASSWORD}@{HOST}:{PORT}/{DATABASE}\")\n",
    "    \n",
    "engine.connect() \n",
    "sql_user_ids = engine.execute(\"select product_id from raw_data\")\n",
    "myresult = sql_user_ids.fetchall()\n",
    "\n",
    "for x in myresult:\n",
    "    print(x)"
   ]
  },
  {
   "cell_type": "code",
   "execution_count": null,
   "metadata": {},
   "outputs": [],
   "source": [
    "import psycopg2\n",
    "\n",
    "con = psycopg2.connect(\n",
    "    host = \"\",\n",
    "    database = \"\",\n",
    "    user = \"\",\n",
    "    password = \"\")\n",
    "\n",
    "cur = con.cursor()\n",
    "\n",
    "cur.execute('select id, name from employees')\n",
    "\n",
    "con.close()"
   ]
  },
  {
   "cell_type": "code",
   "execution_count": null,
   "metadata": {},
   "outputs": [],
   "source": [
    "import re\n",
    "\n",
    "class ListSplit:\n",
    "    def __init__(self):\n",
    "        self.link_list = [\n",
    "        'https://www.amazon.co.uk/Samsung-Galaxy-Mobile-Android-Smartphone/dp/B09QH3JT6P/ref=sr_1_9?crid=1SUU5XS64QZKK&keywords=Mobile+Phones&qid=1652727734&sprefix=mobile+phones%2Caps%2C118&sr=8-9',\n",
    "        'https://www.amazon.co.uk/Google-Pixel-Smartphone-Megapixel-Wide-Angle/dp/B09G77DR7C/?_encoding=UTF8&pd_rd_w=std0m&pf_rd_p=4d619998-507a-44d3-b580-1c7fc24282f7&pf_rd_r=GCQRFPSJ2M2V3Z5757RT&pd_rd_r=be8dae9c-b610-43f3-9cac-bb78efd7afe8&pd_rd_wg=YvTdI&ref_=pd_gw_ci_mcx_mr_hp_atf_m',\n",
    "        'https://www.amazon.co.uk/Blackview-A60-Android-Unlocked-Smartphones/dp/B09WDGK4NL/?_encoding=UTF8&pd_rd_w=std0m&pf_rd_p=4d619998-507a-44d3-b580-1c7fc24282f7&pf_rd_r=GCQRFPSJ2M2V3Z5757RT&pd_rd_r=be8dae9c-b610-43f3-9cac-bb78efd7afe8&pd_rd_wg=YvTdI&ref_=pd_gw_ci_mcx_mr_hp_atf_m'\n",
    "        ]\n",
    "\n",
    "        self.product_id_list = []\n",
    "\n",
    "    def find_product_id(self):\n",
    "        for link in self.link_list:\n",
    "            link = link.split('dp/')[1].split('/')[0]\n",
    "            self.product_id_list.append(link)\n",
    "\n",
    "        print(self.product_id_list)\n",
    "\n",
    "        return\n",
    "\n",
    "if __name__ == '__main__':\n",
    "    public_webscraper = ListSplit()\n",
    "    public_webscraper.find_product_id()\n"
   ]
  }
 ],
 "metadata": {
  "interpreter": {
   "hash": "aee8b7b246df8f9039afb4144a1f6fd8d2ca17a180786b69acc140d282b71a49"
  },
  "kernelspec": {
   "display_name": "Python 3.10.2 64-bit",
   "language": "python",
   "name": "python3"
  },
  "language_info": {
   "codemirror_mode": {
    "name": "ipython",
    "version": 3
   },
   "file_extension": ".py",
   "mimetype": "text/x-python",
   "name": "python",
   "nbconvert_exporter": "python",
   "pygments_lexer": "ipython3",
   "version": "3.10.2"
  },
  "orig_nbformat": 4
 },
 "nbformat": 4,
 "nbformat_minor": 2
}
