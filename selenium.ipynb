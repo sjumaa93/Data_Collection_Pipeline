{
 "cells": [
  {
   "cell_type": "code",
   "execution_count": 5,
   "metadata": {},
   "outputs": [
    {
     "name": "stderr",
     "output_type": "stream",
     "text": [
      "/var/folders/jv/ngpg2fn96hxg_w2ccthqfp500000gn/T/ipykernel_88878/126368032.py:4: DeprecationWarning: executable_path has been deprecated, please pass in a Service object\n",
      "  driver = Chrome('./chromedriver')\n",
      "/var/folders/jv/ngpg2fn96hxg_w2ccthqfp500000gn/T/ipykernel_88878/126368032.py:11: DeprecationWarning: find_element_by_xpath is deprecated. Please use find_element(by=By.XPATH, value=xpath) instead\n",
      "  buttons = driver.find_element_by_xpath('//a[@type=\"button\"]')\n"
     ]
    },
    {
     "ename": "TypeError",
     "evalue": "'NoneType' object is not iterable",
     "output_type": "error",
     "traceback": [
      "\u001b[0;31m---------------------------------------------------------------------------\u001b[0m",
      "\u001b[0;31mTypeError\u001b[0m                                 Traceback (most recent call last)",
      "\u001b[1;32m/Users/saifjumaa/Desktop/Python Files/Data Collection Pipeline/Data-Collection-Pipeline/selenium.ipynb Cell 1'\u001b[0m in \u001b[0;36m<cell line: 13>\u001b[0;34m()\u001b[0m\n\u001b[1;32m      <a href='vscode-notebook-cell:/Users/saifjumaa/Desktop/Python%20Files/Data%20Collection%20Pipeline/Data-Collection-Pipeline/selenium.ipynb#ch0000000?line=8'>9</a>\u001b[0m driver\u001b[39m.\u001b[39mimplicitly_wait(\u001b[39m10\u001b[39m)\n\u001b[1;32m     <a href='vscode-notebook-cell:/Users/saifjumaa/Desktop/Python%20Files/Data%20Collection%20Pipeline/Data-Collection-Pipeline/selenium.ipynb#ch0000000?line=10'>11</a>\u001b[0m buttons \u001b[39m=\u001b[39m driver\u001b[39m.\u001b[39mfind_element_by_xpath(\u001b[39m'\u001b[39m\u001b[39m//a[@type=\u001b[39m\u001b[39m\"\u001b[39m\u001b[39mbutton\u001b[39m\u001b[39m\"\u001b[39m\u001b[39m]\u001b[39m\u001b[39m'\u001b[39m)\n\u001b[0;32m---> <a href='vscode-notebook-cell:/Users/saifjumaa/Desktop/Python%20Files/Data%20Collection%20Pipeline/Data-Collection-Pipeline/selenium.ipynb#ch0000000?line=12'>13</a>\u001b[0m \u001b[39mfor\u001b[39;00m button \u001b[39min\u001b[39;00m buttons:\n\u001b[1;32m     <a href='vscode-notebook-cell:/Users/saifjumaa/Desktop/Python%20Files/Data%20Collection%20Pipeline/Data-Collection-Pipeline/selenium.ipynb#ch0000000?line=13'>14</a>\u001b[0m     \u001b[39mif\u001b[39;00m button\u001b[39m.\u001b[39mtext \u001b[39m==\u001b[39m \u001b[39m\"\u001b[39m\u001b[39mAccept Cookies\u001b[39m\u001b[39m\"\u001b[39m:\n\u001b[1;32m     <a href='vscode-notebook-cell:/Users/saifjumaa/Desktop/Python%20Files/Data%20Collection%20Pipeline/Data-Collection-Pipeline/selenium.ipynb#ch0000000?line=14'>15</a>\u001b[0m         relevant_button \u001b[39m=\u001b[39m button\n",
      "\u001b[0;31mTypeError\u001b[0m: 'NoneType' object is not iterable"
     ]
    }
   ],
   "source": [
    "import selenium\n",
    "\n",
    "from selenium.webdriver import Chrome\n",
    "driver = Chrome('./chromedriver')\n",
    "\n",
    "url = 'https://www.amazon.co.uk/s?k=mobile+phones'\n",
    "driver.maximize_window()\n",
    "driver.get(url)\n",
    "driver.implicitly_wait(10)\n",
    "\n",
    "buttons = driver.find_element_by_xpath('//a[@type=\"button\"]')\n",
    "\n",
    "for button in buttons:\n",
    "    if button.text == \"Accept Cookies\":\n",
    "        relevant_button = button\n",
    "\n",
    "    relevant_button.click()"
   ]
  }
 ],
 "metadata": {
  "interpreter": {
   "hash": "8da3e0d17e389921b5d7052c42b36cd1c21866759545d3871b6417a18aececcb"
  },
  "kernelspec": {
   "display_name": "Python 3.9.10 ('base')",
   "language": "python",
   "name": "python3"
  },
  "language_info": {
   "codemirror_mode": {
    "name": "ipython",
    "version": 3
   },
   "file_extension": ".py",
   "mimetype": "text/x-python",
   "name": "python",
   "nbconvert_exporter": "python",
   "pygments_lexer": "ipython3",
   "version": "3.10.2"
  },
  "orig_nbformat": 4
 },
 "nbformat": 4,
 "nbformat_minor": 2
}
